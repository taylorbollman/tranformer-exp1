{
 "cells": [
  {
   "cell_type": "code",
   "execution_count": 1,
   "metadata": {},
   "outputs": [],
   "source": [
    "# import random\n",
    "# # import pandas as pd\n",
    "# # from IPython.display import display, HTML\n",
    "\n",
    "# import torch\n",
    "# from torch import utils\n",
    "# from torch.utils import data\n",
    "# from torch.utils.data import Dataset, DataLoader\n",
    "\n",
    "# import multiprocessing\n",
    "\n",
    "# import accelerate\n",
    "# from accelerate import Accelerator\n",
    "\n",
    "# # import huggingface_hub\n",
    "# from transformers import T5ForConditionalGeneration, T5Config, T5TokenizerFast, T5Tokenizer, AutoTokenizer\n",
    "# from transformers import DataCollatorWithPadding, DataCollatorForSeq2Seq\n",
    "# from transformers import TrainingArguments, Trainer, default_data_collator, get_scheduler\n",
    "# from transformers import AutoModelForSeq2SeqLM, DataCollatorForSeq2Seq, Seq2SeqTrainer, Seq2SeqTrainingArguments\n",
    "\n",
    "\n",
    "# import datasets\n",
    "# from datasets import load_dataset #, load_from_disk\n",
    "# # import evaluate\n",
    "# # from evaluate import load\n",
    "\n",
    "\n",
    "# import tqdm as notebook_tqdm\n",
    "# import os\n",
    "# from dotenv import load_dotenv\n",
    "\n",
    "# from tqdm.auto import tqdm\n",
    "# import math"
   ]
  },
  {
   "cell_type": "code",
   "execution_count": 2,
   "metadata": {},
   "outputs": [],
   "source": [
    "# load_dotenv()\n",
    "# huggingface_token = os.getenv(\"HUGGINGFACE_TOKEN\")\n",
    "# # huggingface_token = os.getenv(\"HF_TOKEN\")\n",
    "\n",
    "# device_type = torch.device(\"cuda\" if torch.cuda.is_available() else \"cpu\")\n",
    "# # print(device_type)\n",
    "# # print(torch.cuda.device_count())\n",
    "# cpu_cores = multiprocessing.cpu_count()\n",
    "# # print(cpu_cores)\n",
    "# # device = torch.device(\"cpu\")\n",
    "\n",
    "# accelerator = Accelerator()\n",
    "# device = accelerator.state.device"
   ]
  },
  {
   "cell_type": "code",
   "execution_count": 4,
   "metadata": {},
   "outputs": [],
   "source": [
    "# MAX_GPU_BATCH_SIZE = 16\n",
    "# EVAL_BATCH_SIZE = 32\n",
    "\n",
    "# model_checkpoint = \"t5-small\"\n",
    "# huggingface_dataset = \"xsum\""
   ]
  },
  {
   "cell_type": "code",
   "execution_count": 8,
   "metadata": {},
   "outputs": [
    {
     "ename": "AttributeError",
     "evalue": "'DatasetDict' object has no attribute 'source_prefix'",
     "output_type": "error",
     "traceback": [
      "\u001b[0;31m---------------------------------------------------------------------------\u001b[0m",
      "\u001b[0;31mAttributeError\u001b[0m                            Traceback (most recent call last)",
      "Cell \u001b[0;32mIn[8], line 3\u001b[0m\n\u001b[1;32m      1\u001b[0m tokenizer \u001b[38;5;241m=\u001b[39m AutoTokenizer\u001b[38;5;241m.\u001b[39mfrom_pretrained(model_checkpoint)\n\u001b[1;32m      2\u001b[0m raw_dataset \u001b[38;5;241m=\u001b[39m load_dataset(huggingface_dataset)\n\u001b[0;32m----> 3\u001b[0m \u001b[43mraw_dataset\u001b[49m\u001b[38;5;241;43m.\u001b[39;49m\u001b[43msource_prefix\u001b[49m(\u001b[38;5;124m\"\u001b[39m\u001b[38;5;124msummarize: \u001b[39m\u001b[38;5;124m\"\u001b[39m)\n",
      "\u001b[0;31mAttributeError\u001b[0m: 'DatasetDict' object has no attribute 'source_prefix'"
     ]
    }
   ],
   "source": [
    "# tokenizer = AutoTokenizer.from_pretrained(model_checkpoint)\n",
    "# raw_dataset = load_dataset(huggingface_dataset)\n",
    "# raw_dataset.set_format(type=\"torch\", )"
   ]
  },
  {
   "cell_type": "code",
   "execution_count": 7,
   "metadata": {},
   "outputs": [
    {
     "name": "stdout",
     "output_type": "stream",
     "text": [
      "{'document': 'The full cost of damage in Newton Stewart, one of the areas worst affected, is still being assessed.\\nRepair work is ongoing in Hawick and many roads in Peeblesshire remain badly affected by standing water.\\nTrains on the west coast mainline face disruption due to damage at the Lamington Viaduct.\\nMany businesses and householders were affected by flooding in Newton Stewart after the River Cree overflowed into the town.\\nFirst Minister Nicola Sturgeon visited the area to inspect the damage.\\nThe waters breached a retaining wall, flooding many commercial properties on Victoria Street - the main shopping thoroughfare.\\nJeanette Tate, who owns the Cinnamon Cafe which was badly affected, said she could not fault the multi-agency response once the flood hit.\\nHowever, she said more preventative work could have been carried out to ensure the retaining wall did not fail.\\n\"It is difficult but I do think there is so much publicity for Dumfries and the Nith - and I totally appreciate that - but it is almost like we\\'re neglected or forgotten,\" she said.\\n\"That may not be true but it is perhaps my perspective over the last few days.\\n\"Why were you not ready to help us a bit more when the warning and the alarm alerts had gone out?\"\\nMeanwhile, a flood alert remains in place across the Borders because of the constant rain.\\nPeebles was badly hit by problems, sparking calls to introduce more defences in the area.\\nScottish Borders Council has put a list on its website of the roads worst affected and drivers have been urged not to ignore closure signs.\\nThe Labour Party\\'s deputy Scottish leader Alex Rowley was in Hawick on Monday to see the situation first hand.\\nHe said it was important to get the flood protection plan right but backed calls to speed up the process.\\n\"I was quite taken aback by the amount of damage that has been done,\" he said.\\n\"Obviously it is heart-breaking for people who have been forced out of their homes and the impact on businesses.\"\\nHe said it was important that \"immediate steps\" were taken to protect the areas most vulnerable and a clear timetable put in place for flood prevention plans.\\nHave you been affected by flooding in Dumfries and Galloway or the Borders? Tell us about your experience of the situation and how it was handled. Email us on selkirk.news@bbc.co.uk or dumfries@bbc.co.uk.', 'summary': 'Clean-up operations are continuing across the Scottish Borders and Dumfries and Galloway after flooding caused by Storm Frank.', 'id': '35232142'}\n"
     ]
    }
   ],
   "source": [
    "# print(raw_dataset['train'][0])"
   ]
  }
 ],
 "metadata": {
  "kernelspec": {
   "display_name": "base_ggl",
   "language": "python",
   "name": "python3"
  },
  "language_info": {
   "codemirror_mode": {
    "name": "ipython",
    "version": 3
   },
   "file_extension": ".py",
   "mimetype": "text/x-python",
   "name": "python",
   "nbconvert_exporter": "python",
   "pygments_lexer": "ipython3",
   "version": "3.11.6"
  }
 },
 "nbformat": 4,
 "nbformat_minor": 2
}
