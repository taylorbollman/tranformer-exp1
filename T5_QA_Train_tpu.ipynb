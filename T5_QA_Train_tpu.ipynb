{
 "cells": [
  {
   "cell_type": "code",
   "execution_count": 1,
   "metadata": {},
   "outputs": [
    {
     "name": "stdout",
     "output_type": "stream",
     "text": [
      "Looking in links: https://storage.googleapis.com/libtpu-releases/index.html\n",
      "Requirement already satisfied: torch~=2.1.0 in /root/miniforge3/envs/base_ggl/lib/python3.11/site-packages (2.1.2)\n",
      "Requirement already satisfied: torch_xla~=2.1.0 in /root/miniforge3/envs/base_ggl/lib/python3.11/site-packages (from torch_xla[tpu]~=2.1.0) (2.1.0)\n",
      "Requirement already satisfied: filelock in /root/miniforge3/envs/base_ggl/lib/python3.11/site-packages (from torch~=2.1.0) (3.13.1)\n",
      "Requirement already satisfied: typing-extensions in /root/miniforge3/envs/base_ggl/lib/python3.11/site-packages (from torch~=2.1.0) (4.8.0)\n",
      "Requirement already satisfied: sympy in /root/miniforge3/envs/base_ggl/lib/python3.11/site-packages (from torch~=2.1.0) (1.12)\n",
      "Requirement already satisfied: networkx in /root/miniforge3/envs/base_ggl/lib/python3.11/site-packages (from torch~=2.1.0) (3.2.1)\n",
      "Requirement already satisfied: jinja2 in /root/miniforge3/envs/base_ggl/lib/python3.11/site-packages (from torch~=2.1.0) (3.1.2)\n",
      "Requirement already satisfied: fsspec in /root/miniforge3/envs/base_ggl/lib/python3.11/site-packages (from torch~=2.1.0) (2023.10.0)\n",
      "Requirement already satisfied: nvidia-cuda-nvrtc-cu12==12.1.105 in /root/miniforge3/envs/base_ggl/lib/python3.11/site-packages (from torch~=2.1.0) (12.1.105)\n",
      "Requirement already satisfied: nvidia-cuda-runtime-cu12==12.1.105 in /root/miniforge3/envs/base_ggl/lib/python3.11/site-packages (from torch~=2.1.0) (12.1.105)\n",
      "Requirement already satisfied: nvidia-cuda-cupti-cu12==12.1.105 in /root/miniforge3/envs/base_ggl/lib/python3.11/site-packages (from torch~=2.1.0) (12.1.105)\n",
      "Requirement already satisfied: nvidia-cudnn-cu12==8.9.2.26 in /root/miniforge3/envs/base_ggl/lib/python3.11/site-packages (from torch~=2.1.0) (8.9.2.26)\n",
      "Requirement already satisfied: nvidia-cublas-cu12==12.1.3.1 in /root/miniforge3/envs/base_ggl/lib/python3.11/site-packages (from torch~=2.1.0) (12.1.3.1)\n",
      "Requirement already satisfied: nvidia-cufft-cu12==11.0.2.54 in /root/miniforge3/envs/base_ggl/lib/python3.11/site-packages (from torch~=2.1.0) (11.0.2.54)\n",
      "Requirement already satisfied: nvidia-curand-cu12==10.3.2.106 in /root/miniforge3/envs/base_ggl/lib/python3.11/site-packages (from torch~=2.1.0) (10.3.2.106)\n",
      "Requirement already satisfied: nvidia-cusolver-cu12==11.4.5.107 in /root/miniforge3/envs/base_ggl/lib/python3.11/site-packages (from torch~=2.1.0) (11.4.5.107)\n",
      "Requirement already satisfied: nvidia-cusparse-cu12==12.1.0.106 in /root/miniforge3/envs/base_ggl/lib/python3.11/site-packages (from torch~=2.1.0) (12.1.0.106)\n",
      "Requirement already satisfied: nvidia-nccl-cu12==2.18.1 in /root/miniforge3/envs/base_ggl/lib/python3.11/site-packages (from torch~=2.1.0) (2.18.1)\n",
      "Requirement already satisfied: nvidia-nvtx-cu12==12.1.105 in /root/miniforge3/envs/base_ggl/lib/python3.11/site-packages (from torch~=2.1.0) (12.1.105)\n",
      "Requirement already satisfied: triton==2.1.0 in /root/miniforge3/envs/base_ggl/lib/python3.11/site-packages (from torch~=2.1.0) (2.1.0)\n",
      "Requirement already satisfied: nvidia-nvjitlink-cu12 in /root/miniforge3/envs/base_ggl/lib/python3.11/site-packages (from nvidia-cusolver-cu12==11.4.5.107->torch~=2.1.0) (12.3.101)\n",
      "Requirement already satisfied: absl-py>=1.0.0 in /root/miniforge3/envs/base_ggl/lib/python3.11/site-packages (from torch_xla~=2.1.0->torch_xla[tpu]~=2.1.0) (2.0.0)\n",
      "Requirement already satisfied: cloud-tpu-client>=0.10.0 in /root/miniforge3/envs/base_ggl/lib/python3.11/site-packages (from torch_xla~=2.1.0->torch_xla[tpu]~=2.1.0) (0.10)\n",
      "Requirement already satisfied: pyyaml in /root/miniforge3/envs/base_ggl/lib/python3.11/site-packages (from torch_xla~=2.1.0->torch_xla[tpu]~=2.1.0) (6.0.1)\n",
      "Requirement already satisfied: libtpu-nightly==0.1.dev20230825 in /root/miniforge3/envs/base_ggl/lib/python3.11/site-packages (from torch_xla[tpu]~=2.1.0) (0.1.dev20230825+default)\n",
      "Requirement already satisfied: google-api-python-client==1.8.0 in /root/miniforge3/envs/base_ggl/lib/python3.11/site-packages (from cloud-tpu-client>=0.10.0->torch_xla~=2.1.0->torch_xla[tpu]~=2.1.0) (1.8.0)\n",
      "Requirement already satisfied: oauth2client in /root/miniforge3/envs/base_ggl/lib/python3.11/site-packages (from cloud-tpu-client>=0.10.0->torch_xla~=2.1.0->torch_xla[tpu]~=2.1.0) (4.1.3)\n",
      "Requirement already satisfied: httplib2<1dev,>=0.9.2 in /root/miniforge3/envs/base_ggl/lib/python3.11/site-packages (from google-api-python-client==1.8.0->cloud-tpu-client>=0.10.0->torch_xla~=2.1.0->torch_xla[tpu]~=2.1.0) (0.22.0)\n",
      "Requirement already satisfied: google-auth>=1.4.1 in /root/miniforge3/envs/base_ggl/lib/python3.11/site-packages (from google-api-python-client==1.8.0->cloud-tpu-client>=0.10.0->torch_xla~=2.1.0->torch_xla[tpu]~=2.1.0) (2.23.4)\n",
      "Requirement already satisfied: google-auth-httplib2>=0.0.3 in /root/miniforge3/envs/base_ggl/lib/python3.11/site-packages (from google-api-python-client==1.8.0->cloud-tpu-client>=0.10.0->torch_xla~=2.1.0->torch_xla[tpu]~=2.1.0) (0.2.0)\n",
      "Requirement already satisfied: google-api-core<2dev,>=1.13.0 in /root/miniforge3/envs/base_ggl/lib/python3.11/site-packages (from google-api-python-client==1.8.0->cloud-tpu-client>=0.10.0->torch_xla~=2.1.0->torch_xla[tpu]~=2.1.0) (1.34.0)\n",
      "Requirement already satisfied: six<2dev,>=1.6.1 in /root/miniforge3/envs/base_ggl/lib/python3.11/site-packages (from google-api-python-client==1.8.0->cloud-tpu-client>=0.10.0->torch_xla~=2.1.0->torch_xla[tpu]~=2.1.0) (1.16.0)\n",
      "Requirement already satisfied: uritemplate<4dev,>=3.0.0 in /root/miniforge3/envs/base_ggl/lib/python3.11/site-packages (from google-api-python-client==1.8.0->cloud-tpu-client>=0.10.0->torch_xla~=2.1.0->torch_xla[tpu]~=2.1.0) (3.0.1)\n",
      "Requirement already satisfied: MarkupSafe>=2.0 in /root/miniforge3/envs/base_ggl/lib/python3.11/site-packages (from jinja2->torch~=2.1.0) (2.1.3)\n",
      "Requirement already satisfied: mpmath>=0.19 in /root/miniforge3/envs/base_ggl/lib/python3.11/site-packages (from sympy->torch~=2.1.0) (1.3.0)\n",
      "Requirement already satisfied: pyasn1>=0.1.7 in /root/miniforge3/envs/base_ggl/lib/python3.11/site-packages (from oauth2client->cloud-tpu-client>=0.10.0->torch_xla~=2.1.0->torch_xla[tpu]~=2.1.0) (0.5.0)\n",
      "Requirement already satisfied: pyasn1-modules>=0.0.5 in /root/miniforge3/envs/base_ggl/lib/python3.11/site-packages (from oauth2client->cloud-tpu-client>=0.10.0->torch_xla~=2.1.0->torch_xla[tpu]~=2.1.0) (0.3.0)\n",
      "Requirement already satisfied: rsa>=3.1.4 in /root/miniforge3/envs/base_ggl/lib/python3.11/site-packages (from oauth2client->cloud-tpu-client>=0.10.0->torch_xla~=2.1.0->torch_xla[tpu]~=2.1.0) (4.9)\n",
      "Requirement already satisfied: googleapis-common-protos<2.0dev,>=1.56.2 in /root/miniforge3/envs/base_ggl/lib/python3.11/site-packages (from google-api-core<2dev,>=1.13.0->google-api-python-client==1.8.0->cloud-tpu-client>=0.10.0->torch_xla~=2.1.0->torch_xla[tpu]~=2.1.0) (1.61.0)\n",
      "Requirement already satisfied: protobuf!=3.20.0,!=3.20.1,!=4.21.0,!=4.21.1,!=4.21.2,!=4.21.3,!=4.21.4,!=4.21.5,<4.0.0dev,>=3.19.5 in /root/miniforge3/envs/base_ggl/lib/python3.11/site-packages (from google-api-core<2dev,>=1.13.0->google-api-python-client==1.8.0->cloud-tpu-client>=0.10.0->torch_xla~=2.1.0->torch_xla[tpu]~=2.1.0) (3.20.3)\n",
      "Requirement already satisfied: requests<3.0.0dev,>=2.18.0 in /root/miniforge3/envs/base_ggl/lib/python3.11/site-packages (from google-api-core<2dev,>=1.13.0->google-api-python-client==1.8.0->cloud-tpu-client>=0.10.0->torch_xla~=2.1.0->torch_xla[tpu]~=2.1.0) (2.31.0)\n",
      "Requirement already satisfied: cachetools<6.0,>=2.0.0 in /root/miniforge3/envs/base_ggl/lib/python3.11/site-packages (from google-auth>=1.4.1->google-api-python-client==1.8.0->cloud-tpu-client>=0.10.0->torch_xla~=2.1.0->torch_xla[tpu]~=2.1.0) (5.3.2)\n",
      "Requirement already satisfied: pyparsing!=3.0.0,!=3.0.1,!=3.0.2,!=3.0.3,<4,>=2.4.2 in /root/miniforge3/envs/base_ggl/lib/python3.11/site-packages (from httplib2<1dev,>=0.9.2->google-api-python-client==1.8.0->cloud-tpu-client>=0.10.0->torch_xla~=2.1.0->torch_xla[tpu]~=2.1.0) (3.1.1)\n",
      "Requirement already satisfied: charset-normalizer<4,>=2 in /root/miniforge3/envs/base_ggl/lib/python3.11/site-packages (from requests<3.0.0dev,>=2.18.0->google-api-core<2dev,>=1.13.0->google-api-python-client==1.8.0->cloud-tpu-client>=0.10.0->torch_xla~=2.1.0->torch_xla[tpu]~=2.1.0) (3.3.2)\n",
      "Requirement already satisfied: idna<4,>=2.5 in /root/miniforge3/envs/base_ggl/lib/python3.11/site-packages (from requests<3.0.0dev,>=2.18.0->google-api-core<2dev,>=1.13.0->google-api-python-client==1.8.0->cloud-tpu-client>=0.10.0->torch_xla~=2.1.0->torch_xla[tpu]~=2.1.0) (3.4)\n",
      "Requirement already satisfied: urllib3<3,>=1.21.1 in /root/miniforge3/envs/base_ggl/lib/python3.11/site-packages (from requests<3.0.0dev,>=2.18.0->google-api-core<2dev,>=1.13.0->google-api-python-client==1.8.0->cloud-tpu-client>=0.10.0->torch_xla~=2.1.0->torch_xla[tpu]~=2.1.0) (2.1.0)\n",
      "Requirement already satisfied: certifi>=2017.4.17 in /root/miniforge3/envs/base_ggl/lib/python3.11/site-packages (from requests<3.0.0dev,>=2.18.0->google-api-core<2dev,>=1.13.0->google-api-python-client==1.8.0->cloud-tpu-client>=0.10.0->torch_xla~=2.1.0->torch_xla[tpu]~=2.1.0) (2023.11.17)\n",
      "\u001b[33mWARNING: Running pip as the 'root' user can result in broken permissions and conflicting behaviour with the system package manager. It is recommended to use a virtual environment instead: https://pip.pypa.io/warnings/venv\u001b[0m\u001b[33m\n",
      "\u001b[0m"
     ]
    }
   ],
   "source": [
    "!pip install torch~=2.1.0 torch_xla[tpu]~=2.1.0 -f https://storage.googleapis.com/libtpu-releases/index.html"
   ]
  },
  {
   "cell_type": "code",
   "execution_count": 2,
   "metadata": {},
   "outputs": [],
   "source": [
    "import torch\n",
    "\n",
    "from transformers import T5Tokenizer, T5ForConditionalGeneration, T5Config, T5TokenizerFast\n",
    "# from transformers.modeling_outputs import BaseModelOutput, CausalLMOutputWithPast\n",
    "\n",
    "import datasets\n",
    "from datasets import load_dataset\n",
    "# from transformers import LlamaModel, LlamaConfig\n",
    "\n",
    "import tqdm as notebook_tqdm\n",
    "import os\n",
    "from dotenv import load_dotenv\n"
   ]
  },
  {
   "cell_type": "code",
   "execution_count": 3,
   "metadata": {},
   "outputs": [
    {
     "name": "stdout",
     "output_type": "stream",
     "text": [
      "cuda\n"
     ]
    }
   ],
   "source": [
    "load_dotenv()\n",
    "huggingface_token = os.getenv(\"HUGGINGFACE_TOKEN\")\n",
    "\n",
    "device = torch.device(\"cuda\" if torch.cuda.is_available() else \"cpu\")\n",
    "# device = torch.device(\"cpu\")\n",
    "print(device)"
   ]
  },
  {
   "cell_type": "code",
   "execution_count": 4,
   "metadata": {},
   "outputs": [],
   "source": [
    "tokenizer = T5TokenizerFast.from_pretrained('google/flan-t5-base')"
   ]
  },
  {
   "cell_type": "code",
   "execution_count": 10,
   "metadata": {},
   "outputs": [],
   "source": [
    "# process the examples in input and target text format and the eos token at the end \n",
    "def add_eos_to_examples(example):\n",
    "    example['input_text'] = 'question: %s  context: %s </s>' % (example['question'], example['context'])\n",
    "    example['target_text'] = '%s </s>' % example['answers']['text'][0]\n",
    "    return example\n",
    "\n",
    "# tokenize the examples\n",
    "max_source_length = 512\n",
    "max_target_length = 16\n",
    "def convert_to_features(example_batch):\n",
    "    input_encodings = tokenizer(example_batch['input_text'], pad_to_multiple_of=16, max_length=max_source_length, truncation=True)\n",
    "    target_encodings = tokenizer(example_batch['target_text'], pad_to_multiple_of=16, max_length=max_target_length, truncation=True)\n",
    "\n",
    "    encodings = {\n",
    "        'input_ids': input_encodings['input_ids'], \n",
    "        'attention_mask': input_encodings['attention_mask'],\n",
    "        'target_ids': target_encodings['input_ids'],\n",
    "        'target_attention_mask': target_encodings['attention_mask']\n",
    "    }\n",
    "\n",
    "    return encodings"
   ]
  },
  {
   "cell_type": "code",
   "execution_count": 11,
   "metadata": {},
   "outputs": [
    {
     "data": {
      "application/vnd.jupyter.widget-view+json": {
       "model_id": "ab91918f2f7b4b6ebd2813a6b724b800",
       "version_major": 2,
       "version_minor": 0
      },
      "text/plain": [
       "Map:   0%|          | 0/87599 [00:00<?, ? examples/s]"
      ]
     },
     "metadata": {},
     "output_type": "display_data"
    },
    {
     "data": {
      "application/vnd.jupyter.widget-view+json": {
       "model_id": "38a3c2c0335d4039a6b1789e9ee82920",
       "version_major": 2,
       "version_minor": 0
      },
      "text/plain": [
       "Map:   0%|          | 0/10570 [00:00<?, ? examples/s]"
      ]
     },
     "metadata": {},
     "output_type": "display_data"
    },
    {
     "data": {
      "application/vnd.jupyter.widget-view+json": {
       "model_id": "4ba2ad8460134a589dbce6d49367b041",
       "version_major": 2,
       "version_minor": 0
      },
      "text/plain": [
       "Map:   0%|          | 0/10570 [00:00<?, ? examples/s]"
      ]
     },
     "metadata": {},
     "output_type": "display_data"
    }
   ],
   "source": [
    "# load train and validation split of squad\n",
    "train_dataset  = load_dataset('squad', split='train')\n",
    "valid_dataset = load_dataset('squad', split='validation')\n",
    "\n",
    "# map add_eos_to_examples function to the dataset example wise \n",
    "train_dataset = train_dataset.map(add_eos_to_examples)\n",
    "# map convert_to_features batch wise\n",
    "train_dataset = train_dataset.map(convert_to_features, batched=True)\n",
    "\n",
    "valid_dataset = valid_dataset.map(add_eos_to_examples, load_from_cache_file=False)\n",
    "valid_dataset = valid_dataset.map(convert_to_features, batched=True, load_from_cache_file=False)\n",
    "\n",
    "\n",
    "# set the tensor type and the columns which the dataset should return\n",
    "columns = ['input_ids', 'target_ids', 'attention_mask', 'target_attention_mask']\n",
    "train_dataset.set_format(type='torch', columns=columns)\n",
    "valid_dataset.set_format(type='torch', columns=columns)"
   ]
  },
  {
   "cell_type": "code",
   "execution_count": 17,
   "metadata": {},
   "outputs": [
    {
     "name": "stdout",
     "output_type": "stream",
     "text": [
      "{'id': Value(dtype='string', id=None), 'title': Value(dtype='string', id=None), 'context': Value(dtype='string', id=None), 'question': Value(dtype='string', id=None), 'answers': Sequence(feature={'text': Value(dtype='string', id=None), 'answer_start': Value(dtype='int32', id=None)}, length=-1, id=None)}\n",
      "87599 10570\n"
     ]
    }
   ],
   "source": [
    "# cache the dataset, so we can load it directly for training\n",
    "torch.save(train_dataset, 'train_data.pt')\n",
    "torch.save(valid_dataset, 'valid_data.pt')\n",
    "\n",
    "# print(load_dataset('squad', split='train').features)\n",
    "# print(len(train_dataset), len(valid_dataset))"
   ]
  },
  {
   "cell_type": "code",
   "execution_count": null,
   "metadata": {},
   "outputs": [],
   "source": []
  }
 ],
 "metadata": {
  "kernelspec": {
   "display_name": "base_ggl",
   "language": "python",
   "name": "python3"
  },
  "language_info": {
   "codemirror_mode": {
    "name": "ipython",
    "version": 3
   },
   "file_extension": ".py",
   "mimetype": "text/x-python",
   "name": "python",
   "nbconvert_exporter": "python",
   "pygments_lexer": "ipython3",
   "version": "3.11.6"
  }
 },
 "nbformat": 4,
 "nbformat_minor": 2
}
