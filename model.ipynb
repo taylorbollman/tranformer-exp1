{
 "cells": [
  {
   "cell_type": "code",
   "execution_count": 6,
   "metadata": {},
   "outputs": [],
   "source": [
    "import torch\n",
    "from transformers import AutoTokenizer, AutoModelForCausalLM, LlamaTokenizerFast\n",
    "import datasets\n",
    "from datasets import load_dataset\n",
    "# from transformers import LlamaModel, LlamaConfig\n",
    "\n",
    "\n",
    "# import tqdm as notebook_tqdm\n",
    "# import os\n",
    "# from dotenv import load_dotenv\n",
    "\n",
    "\n",
    "\n",
    "# load_dotenv()\n",
    "# huggingface_token = os.getenv(\"HUGGINGFACE_TOKEN\")\n",
    "\n",
    "device = torch.device(\"cuda\" if torch.cuda.is_available() else \"cpu\")\n",
    "device = \"cpu\""
   ]
  },
  {
   "cell_type": "code",
   "execution_count": 2,
   "metadata": {},
   "outputs": [],
   "source": [
    "\n",
    "\n",
    "torch.cuda.empty_cache()\n",
    "# torch.cuda.set_per_process_memory_fraction(0.5)\n"
   ]
  },
  {
   "cell_type": "code",
   "execution_count": 7,
   "metadata": {},
   "outputs": [],
   "source": [
    "\n",
    "model_name = \"meta-llama/Llama-2-7b-chat-hf\"\n",
    "\n",
    "tokenizer = AutoTokenizer.from_pretrained(model_name)\n",
    "tokenizer_fast = LlamaTokenizerFast.from_pretrained(model_name)\n"
   ]
  },
  {
   "cell_type": "code",
   "execution_count": 4,
   "metadata": {},
   "outputs": [
    {
     "name": "stderr",
     "output_type": "stream",
     "text": [
      "Loading checkpoint shards: 100%|██████████| 2/2 [01:21<00:00, 40.58s/it]\n"
     ]
    }
   ],
   "source": [
    "model = AutoModelForCausalLM.from_pretrained(model_name).to(device)"
   ]
  },
  {
   "cell_type": "code",
   "execution_count": 5,
   "metadata": {},
   "outputs": [],
   "source": [
    "\n",
    "\n",
    "    # tokenizer = AutoTokenizer.from_pretrained(\"meta-llama/Llama-2-7b-hf\", )\n",
    "    # model = AutoModelForCausalLM.from_pretrained(\n",
    "    #     model=model_name,\n",
    "    #     torch_dtype=torch.float16,\n",
    "    #     device_map=\"auto\",\n",
    "    #     rope_scaling={\"type\": \"dynamic\", \"factor\": 2.0},\n",
    "#     huggingface_token=huggingface_token,\n",
    "#     )"
   ]
  }
 ],
 "metadata": {
  "kernelspec": {
   "display_name": "base_ggl",
   "language": "python",
   "name": "python3"
  },
  "language_info": {
   "codemirror_mode": {
    "name": "ipython",
    "version": 3
   },
   "file_extension": ".py",
   "mimetype": "text/x-python",
   "name": "python",
   "nbconvert_exporter": "python",
   "pygments_lexer": "ipython3",
   "version": "3.11.6"
  }
 },
 "nbformat": 4,
 "nbformat_minor": 2
}
