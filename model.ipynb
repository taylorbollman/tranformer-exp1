{
 "cells": [
  {
   "cell_type": "code",
   "execution_count": 3,
   "metadata": {},
   "outputs": [],
   "source": [
    "import torch\n",
    "from transformers import AutoTokenizer, AutoConfig, AutoModelForCausalLM, LlamaTokenizerFast\n",
    "from transformers.modeling_outputs import BaseModelOutput, CausalLMOutputWithPast\n",
    "\n",
    "import datasets\n",
    "from datasets import load_dataset\n",
    "from transformers import LlamaModel, LlamaConfig\n",
    "\n",
    "import tqdm as notebook_tqdm\n",
    "import os\n",
    "from dotenv import load_dotenv\n",
    "\n",
    "\n",
    "\n",
    "load_dotenv()\n",
    "huggingface_token = os.getenv(\"HUGGINGFACE_TOKEN\")\n",
    "\n",
    "device = torch.device(\"cuda\" if torch.cuda.is_available() else \"cpu\")\n",
    "device = torch.device(\"cpu\")\n",
    "# print(device)"
   ]
  },
  {
   "cell_type": "code",
   "execution_count": 4,
   "metadata": {},
   "outputs": [],
   "source": [
    "torch.cuda.empty_cache()\n",
    "# torch.cuda.set_per_process_memory_fraction(0.8)"
   ]
  },
  {
   "cell_type": "code",
   "execution_count": 5,
   "metadata": {},
   "outputs": [
    {
     "data": {
      "application/vnd.jupyter.widget-view+json": {
       "model_id": "51e87a4fc2724830aec2e6d49ec37f4c",
       "version_major": 2,
       "version_minor": 0
      },
      "text/plain": [
       "Loading checkpoint shards:   0%|          | 0/2 [00:00<?, ?it/s]"
      ]
     },
     "metadata": {},
     "output_type": "display_data"
    }
   ],
   "source": [
    "# Load the configuration and set it to output hidden states (OR, can use approach w/: model.config.output_hidden_states = True)\n",
    "config = AutoConfig.from_pretrained(\"meta-llama/Llama-2-7b-chat-hf\", output_hidden_states=True)\n",
    "\n",
    "# Load the tokenizer and model with the updated configuration\n",
    "tokenizer = AutoTokenizer.from_pretrained(\"meta-llama/Llama-2-7b-chat-hf\")\n",
    "model = AutoModelForCausalLM.from_pretrained(\"meta-llama/Llama-2-7b-chat-hf\", config=config)"
   ]
  },
  {
   "cell_type": "code",
   "execution_count": 6,
   "metadata": {},
   "outputs": [],
   "source": [
    "inputs = tokenizer(\"I am a boy\", return_tensors=\"pt\")\n",
    "outputs = model(**inputs)"
   ]
  },
  {
   "cell_type": "code",
   "execution_count": 43,
   "metadata": {},
   "outputs": [
    {
     "name": "stdout",
     "output_type": "stream",
     "text": [
      "<class 'transformers.modeling_outputs.CausalLMOutputWithPast'>\n"
     ]
    }
   ],
   "source": [
    "# Accessing the hidden states: Embeddings, and last hidden layer\n",
    "print(type(outputs))\n",
    "input_ids = inputs[\"input_ids\"][0]\n",
    "embeddings_output = outputs.hidden_states[0]\n",
    "last_hidden_layer = outputs.hidden_states[-1]"
   ]
  },
  {
   "cell_type": "code",
   "execution_count": 44,
   "metadata": {},
   "outputs": [
    {
     "name": "stdout",
     "output_type": "stream",
     "text": [
      "dict_keys(['input_ids', 'attention_mask'])\n",
      "odict_keys(['logits', 'past_key_values', 'hidden_states'])\n",
      "tensor([   1,  306,  626,  263, 8023])\n",
      "----\n",
      "<class 'torch.Tensor'>\n",
      "1\n",
      "torch.Size([1, 5, 4096])\n"
     ]
    }
   ],
   "source": [
    "print(inputs.keys())\n",
    "print(outputs.keys())\n",
    "print(input_ids)\n",
    "print('----')\n",
    "print(type(last_hidden_layer))\n",
    "print(len(last_hidden_layer))\n",
    "print(last_hidden_layer.shape)"
   ]
  }
 ],
 "metadata": {
  "kernelspec": {
   "display_name": "base_ggl",
   "language": "python",
   "name": "python3"
  },
  "language_info": {
   "codemirror_mode": {
    "name": "ipython",
    "version": 3
   },
   "file_extension": ".py",
   "mimetype": "text/x-python",
   "name": "python",
   "nbconvert_exporter": "python",
   "pygments_lexer": "ipython3",
   "version": "3.11.6"
  }
 },
 "nbformat": 4,
 "nbformat_minor": 2
}
