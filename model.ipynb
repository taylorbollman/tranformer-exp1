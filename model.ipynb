{
 "cells": [
  {
   "cell_type": "code",
   "execution_count": 1,
   "metadata": {},
   "outputs": [],
   "source": [
    "import torch\n",
    "from transformers import AutoTokenizer, AutoConfig, AutoModelForCausalLM, LlamaTokenizerFast\n",
    "from transformers.modeling_outputs import BaseModelOutput, CausalLMOutputWithPast\n",
    "\n",
    "import datasets\n",
    "from datasets import load_dataset\n",
    "from transformers import LlamaModel, LlamaConfig\n",
    "\n",
    "import tqdm as notebook_tqdm\n",
    "import os\n",
    "from dotenv import load_dotenv\n",
    "\n",
    "\n",
    "\n",
    "load_dotenv()\n",
    "huggingface_token = os.getenv(\"HUGGINGFACE_TOKEN\")\n",
    "\n",
    "device = torch.device(\"cuda\" if torch.cuda.is_available() else \"cpu\")\n",
    "device = torch.device(\"cpu\")\n",
    "# print(device)"
   ]
  },
  {
   "cell_type": "code",
   "execution_count": 2,
   "metadata": {},
   "outputs": [],
   "source": [
    "torch.cuda.empty_cache()\n",
    "# torch.cuda.set_per_process_memory_fraction(0.8)"
   ]
  },
  {
   "cell_type": "code",
   "execution_count": 3,
   "metadata": {},
   "outputs": [
    {
     "data": {
      "application/vnd.jupyter.widget-view+json": {
       "model_id": "66d001b474e3439cb6b15648642d23ca",
       "version_major": 2,
       "version_minor": 0
      },
      "text/plain": [
       "Loading checkpoint shards:   0%|          | 0/2 [00:00<?, ?it/s]"
      ]
     },
     "metadata": {},
     "output_type": "display_data"
    }
   ],
   "source": [
    "# Load the configuration and set it to output hidden states\n",
    "config = AutoConfig.from_pretrained(\"meta-llama/Llama-2-7b-chat-hf\", output_hidden_states=True)\n",
    "\n",
    "# Load the tokenizer and model with the updated configuration\n",
    "tokenizer = AutoTokenizer.from_pretrained(\"meta-llama/Llama-2-7b-chat-hf\")\n",
    "model = AutoModelForCausalLM.from_pretrained(\"meta-llama/Llama-2-7b-chat-hf\", config=config)"
   ]
  },
  {
   "cell_type": "code",
   "execution_count": 4,
   "metadata": {},
   "outputs": [],
   "source": [
    "inputs = tokenizer(\"I am a boy\", return_tensors=\"pt\")\n",
    "outputs = model(**inputs)"
   ]
  },
  {
   "cell_type": "code",
   "execution_count": 10,
   "metadata": {},
   "outputs": [
    {
     "name": "stdout",
     "output_type": "stream",
     "text": [
      "torch.Size([1, 5, 4096])\n"
     ]
    }
   ],
   "source": [
    "# Accessing the hidden states\n",
    "last_layer_hidden_states = outputs.hidden_states[-1]\n",
    "print(last_layer_hidden_states.shape)"
   ]
  },
  {
   "cell_type": "code",
   "execution_count": 6,
   "metadata": {},
   "outputs": [],
   "source": [
    "# model_name = \"meta-llama/Llama-2-7b-chat-hf\"\n",
    "\n",
    "# tokenizer = AutoTokenizer.from_pretrained(model_name)\n",
    "# tokenizer_fast = LlamaTokenizerFast.from_pretrained(model_name)\n",
    "# config = AutoConfig.from_pretrained(model_name)\n",
    "# print(config)"
   ]
  },
  {
   "cell_type": "code",
   "execution_count": null,
   "metadata": {},
   "outputs": [],
   "source": []
  },
  {
   "cell_type": "code",
   "execution_count": 7,
   "metadata": {},
   "outputs": [],
   "source": [
    "# model = AutoModelForCausalLM.from_pretrained(model_name).to(device)"
   ]
  },
  {
   "cell_type": "code",
   "execution_count": 8,
   "metadata": {},
   "outputs": [],
   "source": [
    "# # Load model configuration and set output_hidden_states to True\n",
    "# config = AutoModelForCausalLM.from_pretrained(\"meta-llama/Llama-2-7b-chat-hf\").config\n",
    "# config.output_hidden_states = True"
   ]
  },
  {
   "cell_type": "code",
   "execution_count": 9,
   "metadata": {},
   "outputs": [],
   "source": [
    "\n",
    "# inputs = tokenizer(\"I am a boy\", return_tensors=\"pt\")\n",
    "# outputs = model(**inputs)\n",
    "# print(type(outputs))\n",
    "\n",
    "\n",
    "# last_layer_hidden_states = outputs.hidden_states[-1]\n",
    "# print(last_layer_hidden_states)\n",
    "\n",
    "\n",
    "# last_hidden_states = outputs.hidden_states[-1].to_tuple()\n",
    "\n",
    "\n",
    "# print(last_hidden_states.shape)\n",
    "\n",
    "# print(type(outputs(hidden_states=)))\n",
    "# logits = outputs.logits\n",
    "# print(logits.shape)\n",
    "\n",
    "# print(type(outputs))\n",
    "\n",
    "# print(last_hidden_states.shape)\n",
    "# print(outputs.shape)\n"
   ]
  }
 ],
 "metadata": {
  "kernelspec": {
   "display_name": "base_ggl",
   "language": "python",
   "name": "python3"
  },
  "language_info": {
   "codemirror_mode": {
    "name": "ipython",
    "version": 3
   },
   "file_extension": ".py",
   "mimetype": "text/x-python",
   "name": "python",
   "nbconvert_exporter": "python",
   "pygments_lexer": "ipython3",
   "version": "3.11.6"
  }
 },
 "nbformat": 4,
 "nbformat_minor": 2
}
